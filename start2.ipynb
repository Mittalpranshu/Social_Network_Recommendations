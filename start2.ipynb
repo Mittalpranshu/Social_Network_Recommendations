{
 "cells": [
  {
   "cell_type": "code",
   "execution_count": 1,
   "id": "8ae34df6-e7e9-46d8-808b-259c56fdf54e",
   "metadata": {},
   "outputs": [],
   "source": [
    "import json"
   ]
  },
  {
   "cell_type": "code",
   "execution_count": 8,
   "id": "4ab5aaf5-37c4-4382-bfa1-68e86d2f4ecc",
   "metadata": {},
   "outputs": [],
   "source": [
    "#loading data\n",
    "def loadit(filename):\n",
    "    with open(filename,\"r\") as f:\n",
    "        data=json.load(f)\n",
    "    return data\n",
    "        "
   ]
  },
  {
   "cell_type": "code",
   "execution_count": 10,
   "id": "48f49671-ddb7-4594-8a56-de6d910a6f6a",
   "metadata": {},
   "outputs": [],
   "source": [
    "data=loadit(\"data2.json\")"
   ]
  },
  {
   "cell_type": "code",
   "execution_count": 12,
   "id": "ed81e527-ee60-4809-a1cc-057b264f8275",
   "metadata": {},
   "outputs": [
    {
     "data": {
      "text/plain": [
       "{'users': [{'id': 1, 'name': 'Amit', 'friends': [2, 3], 'liked_pages': [101]},\n",
       "  {'id': 2, 'name': 'Priya', 'friends': [1, 4], 'liked_pages': [102]},\n",
       "  {'id': 3, 'name': '', 'friends': [1], 'liked_pages': [101, 103]},\n",
       "  {'id': 4, 'name': 'Sara', 'friends': [2, 2], 'liked_pages': [104]},\n",
       "  {'id': 5, 'name': 'Amit', 'friends': [], 'liked_pages': []}],\n",
       " 'pages': [{'id': 101, 'name': 'Python Developers'},\n",
       "  {'id': 102, 'name': 'Data Science Enthusiasts'},\n",
       "  {'id': 103, 'name': 'AI & ML Community'},\n",
       "  {'id': 104, 'name': 'Web Dev Hub'},\n",
       "  {'id': 104, 'name': 'Web Development'}]}"
      ]
     },
     "execution_count": 12,
     "metadata": {},
     "output_type": "execute_result"
    }
   ],
   "source": [
    "data"
   ]
  },
  {
   "cell_type": "code",
   "execution_count": 57,
   "id": "89394e8a-8084-48a8-85b4-6a20ea0df01c",
   "metadata": {},
   "outputs": [
    {
     "name": "stdout",
     "output_type": "stream",
     "text": [
      "Data cleaned successully\n"
     ]
    }
   ],
   "source": [
    "def cleanit(data):\n",
    "    # cleaning out no names\n",
    "    data[\"users\"]= [user for user in data[\"users\"] if user[\"name\"].strip()]\n",
    "    # making unique friends\n",
    "    for user in data[\"users\"]:\n",
    "        user[\"friends\"]=list(set(user[\"friends\"]))\n",
    "    #identifying if a user is active or not\n",
    "    data[\"users\"]=[user for user in data[\"users\"] if user[\"friends\"] or user[\"liked_pages\"]]\n",
    "    # for unique content\n",
    "    unique_page={}\n",
    "    for page in data[\"pages\"]:\n",
    "        unique_page[page['id']]=page\n",
    "    data[\"pages\"]=list(unique_page.values())\n",
    "    return data\n",
    "json.dump(data,open(\"cleaned_dataset.json\",\"w\"),indent=4)\n",
    "print(\"Data cleaned successully\")"
   ]
  },
  {
   "cell_type": "code",
   "execution_count": 59,
   "id": "1f4b0163-3094-4a03-b1d8-2eb22d2f23ce",
   "metadata": {},
   "outputs": [
    {
     "data": {
      "text/plain": [
       "{'users': [{'id': 1, 'name': 'Amit', 'friends': [2, 3], 'liked_pages': [101]},\n",
       "  {'id': 2, 'name': 'Priya', 'friends': [1, 4], 'liked_pages': [102]},\n",
       "  {'id': 4, 'name': 'Sara', 'friends': [2], 'liked_pages': [104]}],\n",
       " 'pages': [{'id': 101, 'name': 'Python Developers'},\n",
       "  {'id': 102, 'name': 'Data Science Enthusiasts'},\n",
       "  {'id': 103, 'name': 'AI & ML Community'},\n",
       "  {'id': 104, 'name': 'Web Development'}]}"
      ]
     },
     "execution_count": 59,
     "metadata": {},
     "output_type": "execute_result"
    }
   ],
   "source": [
    "cleanit(data)"
   ]
  },
  {
   "cell_type": "code",
   "execution_count": null,
   "id": "3f1233f7-c83a-41b0-9e5f-6565039417e2",
   "metadata": {},
   "outputs": [],
   "source": []
  }
 ],
 "metadata": {
  "kernelspec": {
   "display_name": "Python 3 (ipykernel)",
   "language": "python",
   "name": "python3"
  },
  "language_info": {
   "codemirror_mode": {
    "name": "ipython",
    "version": 3
   },
   "file_extension": ".py",
   "mimetype": "text/x-python",
   "name": "python",
   "nbconvert_exporter": "python",
   "pygments_lexer": "ipython3",
   "version": "3.12.7"
  }
 },
 "nbformat": 4,
 "nbformat_minor": 5
}
