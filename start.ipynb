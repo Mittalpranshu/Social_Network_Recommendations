{
 "cells": [
  {
   "cell_type": "code",
   "execution_count": 1,
   "id": "02178a48-f02c-439e-975f-07d8286d7c0b",
   "metadata": {},
   "outputs": [],
   "source": [
    "import json"
   ]
  },
  {
   "cell_type": "code",
   "execution_count": 9,
   "id": "d13b6516-12bf-4cfd-921a-f00bef27ebd0",
   "metadata": {},
   "outputs": [],
   "source": [
    "# function to load data \n",
    "def load_data(filename):\n",
    "    with open(filename, \"r\") as f:\n",
    "        data=json.load(f)\n",
    "    return data"
   ]
  },
  {
   "cell_type": "code",
   "execution_count": 13,
   "id": "8659c0b1-fffe-40b6-bf87-7f03983974ba",
   "metadata": {},
   "outputs": [],
   "source": [
    "data=load_data(\"data.json\")"
   ]
  },
  {
   "cell_type": "code",
   "execution_count": 15,
   "id": "9d3252a0-5f6f-464a-8c7c-a64a0b1203e7",
   "metadata": {},
   "outputs": [
    {
     "data": {
      "text/plain": [
       "{'users': [{'id': 1, 'name': 'Amit', 'friends': [2, 3], 'liked_pages': [101]},\n",
       "  {'id': 2, 'name': 'Priya', 'friends': [1, 4], 'liked_pages': [102]},\n",
       "  {'id': 3, 'name': 'Rahul', 'friends': [1], 'liked_pages': [101, 103]},\n",
       "  {'id': 4, 'name': 'Sara', 'friends': [2], 'liked_pages': [104]}],\n",
       " 'pages': [{'id': 101, 'name': 'Python Developers'},\n",
       "  {'id': 102, 'name': 'Data Science Enthusiasts'},\n",
       "  {'id': 103, 'name': 'AI & ML Community'},\n",
       "  {'id': 104, 'name': 'Web Dev Hub'}]}"
      ]
     },
     "execution_count": 15,
     "metadata": {},
     "output_type": "execute_result"
    }
   ],
   "source": [
    "data\n"
   ]
  },
  {
   "cell_type": "code",
   "execution_count": 17,
   "id": "2b71d250-55b8-4368-9f51-179daea82024",
   "metadata": {},
   "outputs": [
    {
     "data": {
      "text/plain": [
       "dict"
      ]
     },
     "execution_count": 17,
     "metadata": {},
     "output_type": "execute_result"
    }
   ],
   "source": [
    "type(data)"
   ]
  },
  {
   "cell_type": "code",
   "execution_count": 38,
   "id": "0d0ac47e-5a3a-429e-b1db-2d790b7e78dd",
   "metadata": {},
   "outputs": [
    {
     "name": "stdout",
     "output_type": "stream",
     "text": [
      "Users and their Connections:\n",
      "\n",
      "Amit with (ID-1) is friends with [2, 3] has Liked-[101]\n",
      "Priya with (ID-2) is friends with [1, 4] has Liked-[102]\n",
      "Rahul with (ID-3) is friends with [1] has Liked-[101, 103]\n",
      "Sara with (ID-4) is friends with [2] has Liked-[104]\n",
      "\n",
      " Page Information:\n",
      "\n",
      "101-(Name Python Developers)\n",
      "102-(Name Data Science Enthusiasts)\n",
      "103-(Name AI & ML Community)\n",
      "104-(Name Web Dev Hub)\n"
     ]
    }
   ],
   "source": [
    "def display_data(data):\n",
    "    print(\"Users and their Connections:\\n\")\n",
    "    for user in data['users']:\n",
    "        print(f\"{user['name']} with (ID-{user['id']}) is friends with {user['friends']} has Liked-{user['liked_pages']}\")\n",
    "    print(\"\\n Page Information:\\n\")\n",
    "    for page in data['pages']:\n",
    "        print(f\"{page['id']}-(Name {page['name']})\")\n",
    "display_data(data)"
   ]
  },
  {
   "cell_type": "code",
   "execution_count": null,
   "id": "0ce90068-f880-4fe9-a63a-c7b1fcdcb100",
   "metadata": {},
   "outputs": [],
   "source": []
  }
 ],
 "metadata": {
  "kernelspec": {
   "display_name": "Python 3 (ipykernel)",
   "language": "python",
   "name": "python3"
  },
  "language_info": {
   "codemirror_mode": {
    "name": "ipython",
    "version": 3
   },
   "file_extension": ".py",
   "mimetype": "text/x-python",
   "name": "python",
   "nbconvert_exporter": "python",
   "pygments_lexer": "ipython3",
   "version": "3.12.7"
  }
 },
 "nbformat": 4,
 "nbformat_minor": 5
}
