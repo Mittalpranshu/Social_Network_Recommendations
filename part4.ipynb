{
 "cells": [
  {
   "cell_type": "code",
   "execution_count": 10,
   "id": "43a94463-9284-4193-8ec0-55cbc6c6a022",
   "metadata": {},
   "outputs": [
    {
     "name": "stdout",
     "output_type": "stream",
     "text": [
      "[103, 105, 107, 104, 106, 108, 109, 110, 111, 112, 113, 114, 115, 116, 117, 118, 119, 120, 121, 122, 123, 124, 125, 126, 127]\n"
     ]
    }
   ],
   "source": [
    "import json\n",
    "def load(filename):\n",
    "    with open(filename,\"r\") as f:\n",
    "        return json.load(f)\n",
    "def page_u_may_like(user_id,data):\n",
    "    unique_pg={}\n",
    "    for user in data[\"users\"]:\n",
    "        unique_pg[user[\"id\"]]=set(user[\"liked_pages\"])\n",
    "    if user_id not in unique_pg:\n",
    "        return []\n",
    "    user_liked_pg=unique_pg[user_id]\n",
    "    page_sugg={}\n",
    "    for other_user,pages in unique_pg.items():\n",
    "        if other_user!=user_id:\n",
    "            shared_pg=user_liked_pg.intersection(pages)\n",
    "        for page in pages:\n",
    "            if page not in user_liked_pg:\n",
    "                page_sugg[page]=page_sugg.get(page,0)+len(shared_pg)\n",
    "    sorted_pages=sorted(page_sugg.items(),key=lambda x:x[1],reverse=True)\n",
    "    return [page_id for page_id,_ in sorted_pages]\n",
    "    \n",
    "    pass\n",
    "data=load(\"massive.json\")\n",
    "user_id=1\n",
    "recc=page_u_may_like(user_id,data)\n",
    "print(recc)"
   ]
  },
  {
   "cell_type": "code",
   "execution_count": null,
   "id": "55686a7d-bdb9-42de-9d9a-261b8d0b61fa",
   "metadata": {},
   "outputs": [],
   "source": []
  }
 ],
 "metadata": {
  "kernelspec": {
   "display_name": "Python 3 (ipykernel)",
   "language": "python",
   "name": "python3"
  },
  "language_info": {
   "codemirror_mode": {
    "name": "ipython",
    "version": 3
   },
   "file_extension": ".py",
   "mimetype": "text/x-python",
   "name": "python",
   "nbconvert_exporter": "python",
   "pygments_lexer": "ipython3",
   "version": "3.12.7"
  }
 },
 "nbformat": 4,
 "nbformat_minor": 5
}
