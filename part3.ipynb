{
 "cells": [
  {
   "cell_type": "code",
   "execution_count": 38,
   "id": "f8decad1-acf0-4068-aabc-389b42c4098c",
   "metadata": {},
   "outputs": [
    {
     "name": "stdout",
     "output_type": "stream",
     "text": [
      "[11, 6, 4, 7, 14, 15, 18, 1, 2, 3, 13, 22]\n"
     ]
    }
   ],
   "source": [
    "import json\n",
    "def load(filename):\n",
    "    with open(filename,\"r\") as f:\n",
    "        return json.load(f)\n",
    "def people_youmay_know(user_id,data):\n",
    "    user_friends={}\n",
    "    for user in data[\"users\"]:\n",
    "        user_friends[user['id']]=set(user[\"friends\"])\n",
    "    if user_id not in user_friends:\n",
    "        return []\n",
    "    direct_friend=user_friends[user_id]\n",
    "    suggestions={}\n",
    "    for friends in direct_friend:\n",
    "        for mutual in user_friends[friends]:\n",
    "            if mutual!=user_id and mutual not in direct_friend:\n",
    "                suggestions[mutual]=suggestions.get(mutual,0)+1\n",
    "    sorted_suggestions=sorted(suggestions.items(),key=lambda x:x[1],reverse=True)\n",
    "    return [user_id for user_id,_ in sorted_suggestions]\n",
    "    \n",
    "    \n",
    "    pass\n",
    "data=load(\"massive.json\")\n",
    "user_id=10\n",
    "recc=people_youmay_know(user_id,data)\n",
    "print(recc)"
   ]
  },
  {
   "cell_type": "code",
   "execution_count": null,
   "id": "047df126-94ff-4fa1-b40e-43e642861718",
   "metadata": {},
   "outputs": [],
   "source": []
  },
  {
   "cell_type": "code",
   "execution_count": null,
   "id": "6cd7af9c-5bcd-4f21-92b2-be3c9ec3e003",
   "metadata": {},
   "outputs": [],
   "source": []
  }
 ],
 "metadata": {
  "kernelspec": {
   "display_name": "Python 3 (ipykernel)",
   "language": "python",
   "name": "python3"
  },
  "language_info": {
   "codemirror_mode": {
    "name": "ipython",
    "version": 3
   },
   "file_extension": ".py",
   "mimetype": "text/x-python",
   "name": "python",
   "nbconvert_exporter": "python",
   "pygments_lexer": "ipython3",
   "version": "3.12.7"
  }
 },
 "nbformat": 4,
 "nbformat_minor": 5
}
